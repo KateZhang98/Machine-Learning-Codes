{
 "cells": [
  {
   "cell_type": "code",
   "execution_count": 22,
   "metadata": {},
   "outputs": [
    {
     "name": "stdout",
     "output_type": "stream",
     "text": [
      "Running the experiment...\n",
      "Printing histogram...\n"
     ]
    },
    {
     "data": {
      "image/png": "[encoded data removed]",
      "text/plain": [
       "<Figure size 432x288 with 1 Axes>"
      ]
     },
     "metadata": {
      "needs_background": "light"
     },
     "output_type": "display_data"
    },
    {
     "name": "stdout",
     "output_type": "stream",
     "text": [
      "Printing second histogram\n"
     ]
    },
    {
     "data": {
      "image/png": "[encoded data removed]",
      "text/plain": [
       "<Figure size 432x288 with 1 Axes>"
      ]
     },
     "metadata": {
      "needs_background": "light"
     },
     "output_type": "display_data"
    }
   ],
   "source": [
    "#!/usr/bin/python3\n",
    "# Homework 1 Code\n",
    "import numpy as np\n",
    "import matplotlib.pyplot as plt\n",
    "import pandas as pd\n",
    "from numpy import linalg as LA\n",
    "import random\n",
    "\n",
    "\n",
    "def perceptron_learn(data_in):\n",
    "    # Run PLA on the input data\n",
    "    #\n",
    "    # Inputs: data_in: Assumed to be a matrix with each row representing an\n",
    "    #                (x,y) pair, with the x vector augmented with an\n",
    "    #                initial 1 (i.e., x_0), and the label (y) in the last column\n",
    "    # Outputs: w: A weight vector (should linearly separate the data if it is linearly separable)\n",
    "    #        iterations: The number of iterations the algorithm ran for\n",
    "\n",
    "    # Your code here, assign the proper values to w and iterations:\n",
    "    N=data_in.shape[0]\n",
    "    d =data_in.shape[1]-1\n",
    "    w =np.zeros(d).reshape(d,1)\n",
    "    x = data_in[:,:-1]\n",
    "    y = data_in[:,-1]\n",
    "    iterations =0\n",
    "    i=0\n",
    "    while i < N:\n",
    "        if np.sign(x[i]@w)!= y[i]:\n",
    "            w=w+y[i]*x[i].reshape(d,1)\n",
    "            iterations+=1\n",
    "            i=0\n",
    "        else:\n",
    "            i+=1\n",
    "    return w, iterations\n",
    "\n",
    "\n",
    "def perceptron_experiment(N, d, num_exp):\n",
    "    # Code for running the perceptron experiment in HW1\n",
    "    # Implement the dataset construction and call perceptron_learn; repeat num_exp times\n",
    "    #\n",
    "    # Inputs: N is the number of training data points\n",
    "    #         d is the dimensionality of each data point (before adding x_0)\n",
    "    #         num_exp is the number of times to repeat the experiment\n",
    "    # Outputs: num_iters is the # of iterations PLA takes for each experiment\n",
    "    #          bounds_minus_ni is the difference between the theoretical bound and the actual number of iterations\n",
    "    # (both the outputs should be num_exp long)\n",
    "\n",
    "    # Initialize the return variables\n",
    "    num_iters = np.zeros((num_exp,))\n",
    "    bounds_minus_ni = np.zeros((num_exp,))\n",
    "\n",
    "    # Your code here, assign the values to num_iters and bounds_minus_ni:\n",
    "    for j in range(num_exp):\n",
    "        #w*\n",
    "        wOpt = np.random.rand(d+1)\n",
    "        wOpt[0]=0\n",
    "        wOpt = wOpt.reshape(d+1,1)\n",
    "        #Generate a random training set with N data points\n",
    "        x0 = np.ones(N).reshape(N,1)\n",
    "        df = np.random.uniform(-1, 1, size = (N,d))\n",
    "        df = np.concatenate((x0,df),axis=1)\n",
    "        #y\n",
    "        ylabel =np.sign(df@wOpt).reshape(N,1)\n",
    "        data = np.concatenate((df,ylabel),axis=1)\n",
    "        #bound\n",
    "#         print(df.shape)\n",
    "#         print(wOpt.shape)\n",
    "        values = df@wOpt\n",
    "#         print(values.shape)\n",
    "        a = ylabel*values\n",
    "        a=a.reshape(1,N)[0]\n",
    "#         print(a.shape)\n",
    "        p = min(a)\n",
    "        R=LA.norm(df,axis=1)\n",
    "        R = max(R)\n",
    "        wsqr = LA.norm(wOpt)\n",
    "        bound = pow(R,2)*pow(wsqr,2)/pow(p,2)\n",
    "#         print(R.shape)\n",
    "        \n",
    "        #run PLA\n",
    "        w,num_iters[j]=perceptron_learn(data)\n",
    "        bounds_minus_ni[j]=bound-num_iters[j]\n",
    "    return num_iters, bounds_minus_ni\n",
    "\n",
    "\n",
    "def main():\n",
    "    print(\"Running the experiment...\")\n",
    "    num_iters, bounds_minus_ni = perceptron_experiment(100, 10, 1000)\n",
    "\n",
    "    print(\"Printing histogram...\")\n",
    "    plt.hist(num_iters)\n",
    "    plt.title(\"Histogram of Number of Iterations\")\n",
    "    plt.xlabel(\"Number of Iterations\")\n",
    "    plt.ylabel(\"Count\")\n",
    "    plt.show()\n",
    "\n",
    "    print(\"Printing second histogram\")\n",
    "    plt.hist(np.log(bounds_minus_ni))\n",
    "    plt.title(\"Bounds Minus Iterations\")\n",
    "    plt.xlabel(\"Log Difference of Theoretical Bounds and Actual # Iterations\")\n",
    "    plt.ylabel(\"Count\")\n",
    "    plt.show()\n",
    "    \n",
    "if __name__ == \"__main__\":\n",
    "    main()"
   ]
  },
  {
   "cell_type": "code",
   "execution_count": null,
   "metadata": {},
   "outputs": [],
   "source": []
  }
 ],
 "metadata": {
  "kernelspec": {
   "display_name": "Python 3",
   "language": "python",
   "name": "python3"
  },
  "language_info": {
   "codemirror_mode": {
    "name": "ipython",
    "version": 3
   },
   "file_extension": ".py",
   "mimetype": "text/x-python",
   "name": "python",
   "nbconvert_exporter": "python",
   "pygments_lexer": "ipython3",
   "version": "3.7.7"
  }
 },
 "nbformat": 4,
 "nbformat_minor": 4
}
