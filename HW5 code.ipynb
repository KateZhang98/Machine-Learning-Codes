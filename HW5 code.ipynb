{
 "cells": [
  {
   "cell_type": "code",
   "execution_count": 47,
   "metadata": {},
   "outputs": [
    {
     "data": {
      "image/png": "[encoded data removed]",
      "text/plain": [
       "<Figure size 432x288 with 1 Axes>"
      ]
     },
     "metadata": {
      "needs_background": "light"
     },
     "output_type": "display_data"
    }
   ],
   "source": [
    "#!/usr/bin/python3\n",
    "# Homework 5 Code\n",
    "from sklearn.tree import DecisionTreeClassifier\n",
    "import numpy as np\n",
    "import matplotlib.pyplot as plt\n",
    "def adaboost_trees(X_train, y_train, X_test, y_test, n_trees):\n",
    "    # %AdaBoost: Implement AdaBoost using decision trees\n",
    "    # %   using information gain as the weak learners.\n",
    "    # %   X_train: Training set\n",
    "    # %   y_train: Training set labels\n",
    "    # %   X_test: Testing set\n",
    "    # %   y_test: Testing set labels\n",
    "    # %   n_trees: The number of trees to use\n",
    "    N=len(X_train)\n",
    "    M =len(X_test)\n",
    "    d = np.ones(N)/N\n",
    "    output_train=np.zeros((N,n_trees))\n",
    "    output_test=np.zeros((M,n_trees))\n",
    "    alpha=np.zeros(n_trees)\n",
    "    train_error=np.zeros(n_trees)\n",
    "    test_error=np.zeros(n_trees)\n",
    "    #train the next weak learner based on the dataset that is classified wrong in the previous weak learner.\n",
    "    for i in range(n_trees):\n",
    "        clf=DecisionTreeClassifier(criterion=\"entropy\",max_depth = 1)\n",
    "        clf.fit(X_train,y_train,sample_weight=d)\n",
    "        output_train[:,i]= clf.predict(X_train)\n",
    "        output_test[:,i]=clf.predict(X_test)\n",
    "        epsilon=np.sum(d*(output_train[:,i]!=y_train))\n",
    "#         print(epsilon)\n",
    "        alpha[i]=0.5*np.log((1-epsilon)/epsilon)\n",
    "        d=d*np.exp(-alpha[i]*output_train[:,i]*y_train)\n",
    "        d=d/(np.sum(d))\n",
    "        predic_train = np.sign(np.matmul(output_train[:,:i+1],alpha[:i+1]))\n",
    "        predic_test=np.sign(np.matmul(output_test[:,:i+1],alpha[:i+1]))\n",
    "        train_error[i] =np.sum(predic_train!=y_train)/N\n",
    "        test_error[i] =np.sum(predic_test!=y_test)/M\n",
    "    plt.title('3 verse 5')\n",
    "    plt.xlabel('number of trees')\n",
    "    plt.ylabel('error')\n",
    "    plt.plot(np.arange(1,201),train_error, 'r')\n",
    "    plt.plot(np.arange(1,201),test_error,'b')\n",
    "    return train_error, test_error\n",
    "\n",
    "def main_hw5():\n",
    "    # Load data\n",
    "    og_train= np.genfromtxt('zip.train')\n",
    "    og_test= np.genfromtxt('zip.test')\n",
    "    # Split data\n",
    "    y_train=[]\n",
    "    list1=np.where(og_train[:,0]==1)[0].tolist()\n",
    "    list3=np.where(og_train[:,0]==3)[0].tolist()\n",
    "    list5=np.where(og_train[:,0]==5)[0].tolist()\n",
    "    X_train1 = og_train[list1+list3,:]\n",
    "    X_train2=og_train[list3+list5,:]\n",
    "#     print(X_train.shape)\n",
    "    for i in range(len(X_train2)):\n",
    "        if X_train2[i,0]==3:\n",
    "            y_train.append(1)\n",
    "        else:\n",
    "            y_train.append(-1)\n",
    "    X_train2=X_train2[:,1:]\n",
    "#     print(X_train.head)\n",
    "#     print(y_train)\n",
    "    tlist1=np.where(og_test[:,0]==1)[0].tolist()\n",
    "    tlist3=np.where(og_test[:,0]==3)[0].tolist()\n",
    "    tlist5=np.where(og_test[:,0]==5)[0].tolist()\n",
    "    X_test1 =og_test[tlist1+tlist3,:]\n",
    "    X_test2=og_test[tlist3+tlist5,:]\n",
    "    y_test=[]\n",
    "    for i in range(len(X_test2)):\n",
    "        if X_test2[i,0]==3:\n",
    "            y_test.append(1)\n",
    "        else:\n",
    "            y_test.append(-1)\n",
    "    X_test2=X_test2[:,1:]\n",
    "    train_error, test_error = adaboost_trees(X_train2, y_train, X_test2, y_test, 200)\n",
    "#     print(train_error,test_error)\n",
    "\n",
    "\n",
    "if __name__ == \"__main__\":\n",
    "    main_hw5()"
   ]
  },
  {
   "cell_type": "code",
   "execution_count": null,
   "metadata": {},
   "outputs": [],
   "source": []
  }
 ],
 "metadata": {
  "kernelspec": {
   "display_name": "Python 3",
   "language": "python",
   "name": "python3"
  },
  "language_info": {
   "codemirror_mode": {
    "name": "ipython",
    "version": 3
   },
   "file_extension": ".py",
   "mimetype": "text/x-python",
   "name": "python",
   "nbconvert_exporter": "python",
   "pygments_lexer": "ipython3",
   "version": "3.7.7"
  }
 },
 "nbformat": 4,
 "nbformat_minor": 4
}
